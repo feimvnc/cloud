{
 "cells": [
  {
   "cell_type": "markdown",
   "id": "174b3914-f809-4e21-bc82-6d89fda05517",
   "metadata": {},
   "source": [
    "## R Matrices"
   ]
  },
  {
   "cell_type": "code",
   "execution_count": 1,
   "id": "edb6c85b-b4ff-4b15-abd1-aa97d6595f2b",
   "metadata": {},
   "outputs": [
    {
     "data": {
      "text/html": [
       "<table>\n",
       "<tbody>\n",
       "\t<tr><td>1</td><td>4</td></tr>\n",
       "\t<tr><td>2</td><td>5</td></tr>\n",
       "\t<tr><td>3</td><td>6</td></tr>\n",
       "</tbody>\n",
       "</table>\n"
      ],
      "text/latex": [
       "\\begin{tabular}{ll}\n",
       "\t 1 & 4\\\\\n",
       "\t 2 & 5\\\\\n",
       "\t 3 & 6\\\\\n",
       "\\end{tabular}\n"
      ],
      "text/markdown": [
       "\n",
       "| 1 | 4 |\n",
       "| 2 | 5 |\n",
       "| 3 | 6 |\n",
       "\n"
      ],
      "text/plain": [
       "     [,1] [,2]\n",
       "[1,] 1    4   \n",
       "[2,] 2    5   \n",
       "[3,] 3    6   "
      ]
     },
     "metadata": {},
     "output_type": "display_data"
    }
   ],
   "source": [
    "# Create a matrix\n",
    "thismatrix <- matrix(c(1,2,3,4,5,6), nrow = 3, ncol = 2)\n",
    "\n",
    "# Print the matrix\n",
    "thismatrix"
   ]
  },
  {
   "cell_type": "code",
   "execution_count": 2,
   "id": "31c8ea39-4887-45b3-b49a-799d88e98c75",
   "metadata": {},
   "outputs": [
    {
     "data": {
      "text/html": [
       "<table>\n",
       "<tbody>\n",
       "\t<tr><td>apple </td><td>cherry</td></tr>\n",
       "\t<tr><td>banana</td><td>orange</td></tr>\n",
       "</tbody>\n",
       "</table>\n"
      ],
      "text/latex": [
       "\\begin{tabular}{ll}\n",
       "\t apple  & cherry\\\\\n",
       "\t banana & orange\\\\\n",
       "\\end{tabular}\n"
      ],
      "text/markdown": [
       "\n",
       "| apple  | cherry |\n",
       "| banana | orange |\n",
       "\n"
      ],
      "text/plain": [
       "     [,1]   [,2]  \n",
       "[1,] apple  cherry\n",
       "[2,] banana orange"
      ]
     },
     "metadata": {},
     "output_type": "display_data"
    }
   ],
   "source": [
    "thismatrix <- matrix(c(\"apple\", \"banana\", \"cherry\", \"orange\"), nrow = 2, ncol = 2)\n",
    "\n",
    "thismatrix"
   ]
  },
  {
   "cell_type": "code",
   "execution_count": 3,
   "id": "937df64a-38ce-4c61-b851-b05a3a93830d",
   "metadata": {},
   "outputs": [
    {
     "data": {
      "text/html": [
       "'cherry'"
      ],
      "text/latex": [
       "'cherry'"
      ],
      "text/markdown": [
       "'cherry'"
      ],
      "text/plain": [
       "[1] \"cherry\""
      ]
     },
     "metadata": {},
     "output_type": "display_data"
    }
   ],
   "source": [
    "thismatrix <- matrix(c(\"apple\", \"banana\", \"cherry\", \"orange\"), nrow = 2, ncol = 2)\n",
    "\n",
    "thismatrix[1, 2]"
   ]
  },
  {
   "cell_type": "code",
   "execution_count": 4,
   "id": "0d55c7ee-6808-476f-ab23-bb0d33adf96c",
   "metadata": {},
   "outputs": [
    {
     "data": {
      "text/html": [
       "<table>\n",
       "<tbody>\n",
       "\t<tr><td>apple </td><td>cherry</td></tr>\n",
       "\t<tr><td>banana</td><td>orange</td></tr>\n",
       "</tbody>\n",
       "</table>\n"
      ],
      "text/latex": [
       "\\begin{tabular}{ll}\n",
       "\t apple  & cherry\\\\\n",
       "\t banana & orange\\\\\n",
       "\\end{tabular}\n"
      ],
      "text/markdown": [
       "\n",
       "| apple  | cherry |\n",
       "| banana | orange |\n",
       "\n"
      ],
      "text/plain": [
       "     [,1]   [,2]  \n",
       "[1,] apple  cherry\n",
       "[2,] banana orange"
      ]
     },
     "metadata": {},
     "output_type": "display_data"
    }
   ],
   "source": [
    "thismatrix"
   ]
  },
  {
   "cell_type": "code",
   "execution_count": 5,
   "id": "3f7fb480-9a09-4910-bad9-9962a1eacd1f",
   "metadata": {},
   "outputs": [
    {
     "data": {
      "text/html": [
       "<ol class=list-inline>\n",
       "\t<li>'banana'</li>\n",
       "\t<li>'orange'</li>\n",
       "</ol>\n"
      ],
      "text/latex": [
       "\\begin{enumerate*}\n",
       "\\item 'banana'\n",
       "\\item 'orange'\n",
       "\\end{enumerate*}\n"
      ],
      "text/markdown": [
       "1. 'banana'\n",
       "2. 'orange'\n",
       "\n",
       "\n"
      ],
      "text/plain": [
       "[1] \"banana\" \"orange\""
      ]
     },
     "metadata": {},
     "output_type": "display_data"
    }
   ],
   "source": [
    "thismatrix <- matrix(c(\"apple\", \"banana\", \"cherry\", \"orange\"), nrow = 2, ncol = 2)\n",
    "\n",
    "thismatrix[2,]"
   ]
  },
  {
   "cell_type": "code",
   "execution_count": 6,
   "id": "d6e0f8c4-b585-4ef7-a373-b939d4d7e0d1",
   "metadata": {},
   "outputs": [
    {
     "data": {
      "text/html": [
       "<ol class=list-inline>\n",
       "\t<li>'cherry'</li>\n",
       "\t<li>'orange'</li>\n",
       "</ol>\n"
      ],
      "text/latex": [
       "\\begin{enumerate*}\n",
       "\\item 'cherry'\n",
       "\\item 'orange'\n",
       "\\end{enumerate*}\n"
      ],
      "text/markdown": [
       "1. 'cherry'\n",
       "2. 'orange'\n",
       "\n",
       "\n"
      ],
      "text/plain": [
       "[1] \"cherry\" \"orange\""
      ]
     },
     "metadata": {},
     "output_type": "display_data"
    }
   ],
   "source": [
    "thismatrix <- matrix(c(\"apple\", \"banana\", \"cherry\", \"orange\"), nrow = 2, ncol = 2)\n",
    "\n",
    "thismatrix[,2]"
   ]
  },
  {
   "cell_type": "code",
   "execution_count": 7,
   "id": "9a41e8c6-a345-46af-bf42-b66765545093",
   "metadata": {},
   "outputs": [
    {
     "data": {
      "text/html": [
       "<table>\n",
       "<tbody>\n",
       "\t<tr><td>apple </td><td>orange</td><td>pear  </td></tr>\n",
       "\t<tr><td>banana</td><td>grape </td><td>melon </td></tr>\n",
       "</tbody>\n",
       "</table>\n"
      ],
      "text/latex": [
       "\\begin{tabular}{lll}\n",
       "\t apple  & orange & pear  \\\\\n",
       "\t banana & grape  & melon \\\\\n",
       "\\end{tabular}\n"
      ],
      "text/markdown": [
       "\n",
       "| apple  | orange | pear   |\n",
       "| banana | grape  | melon  |\n",
       "\n"
      ],
      "text/plain": [
       "     [,1]   [,2]   [,3] \n",
       "[1,] apple  orange pear \n",
       "[2,] banana grape  melon"
      ]
     },
     "metadata": {},
     "output_type": "display_data"
    }
   ],
   "source": [
    "thismatrix <- matrix(c(\"apple\", \"banana\", \"cherry\", \"orange\",\"grape\", \"pineapple\", \"pear\", \"melon\", \"fig\"), nrow = 3, ncol = 3)\n",
    "\n",
    "thismatrix[c(1,2),]"
   ]
  },
  {
   "cell_type": "code",
   "execution_count": 8,
   "id": "ad076872-d9c6-4de0-9643-617dff405d98",
   "metadata": {},
   "outputs": [
    {
     "data": {
      "text/html": [
       "<table>\n",
       "<tbody>\n",
       "\t<tr><td>apple    </td><td>orange   </td></tr>\n",
       "\t<tr><td>banana   </td><td>grape    </td></tr>\n",
       "\t<tr><td>cherry   </td><td>pineapple</td></tr>\n",
       "</tbody>\n",
       "</table>\n"
      ],
      "text/latex": [
       "\\begin{tabular}{ll}\n",
       "\t apple     & orange   \\\\\n",
       "\t banana    & grape    \\\\\n",
       "\t cherry    & pineapple\\\\\n",
       "\\end{tabular}\n"
      ],
      "text/markdown": [
       "\n",
       "| apple     | orange    |\n",
       "| banana    | grape     |\n",
       "| cherry    | pineapple |\n",
       "\n"
      ],
      "text/plain": [
       "     [,1]   [,2]     \n",
       "[1,] apple  orange   \n",
       "[2,] banana grape    \n",
       "[3,] cherry pineapple"
      ]
     },
     "metadata": {},
     "output_type": "display_data"
    }
   ],
   "source": [
    "thismatrix <- matrix(c(\"apple\", \"banana\", \"cherry\", \"orange\",\"grape\", \"pineapple\", \"pear\", \"melon\", \"fig\"), nrow = 3, ncol = 3)\n",
    "\n",
    "thismatrix[, c(1,2)]"
   ]
  },
  {
   "cell_type": "code",
   "execution_count": 9,
   "id": "9867e395-6da3-41d1-9d73-4ddea869b798",
   "metadata": {},
   "outputs": [
    {
     "data": {
      "text/html": [
       "<table>\n",
       "<tbody>\n",
       "\t<tr><td>apple     </td><td>orange    </td><td>pear      </td><td>strawberry</td></tr>\n",
       "\t<tr><td>banana    </td><td>grape     </td><td>melon     </td><td>blueberry </td></tr>\n",
       "\t<tr><td>cherry    </td><td>pineapple </td><td>fig       </td><td>raspberry </td></tr>\n",
       "</tbody>\n",
       "</table>\n"
      ],
      "text/latex": [
       "\\begin{tabular}{llll}\n",
       "\t apple      & orange     & pear       & strawberry\\\\\n",
       "\t banana     & grape      & melon      & blueberry \\\\\n",
       "\t cherry     & pineapple  & fig        & raspberry \\\\\n",
       "\\end{tabular}\n"
      ],
      "text/markdown": [
       "\n",
       "| apple      | orange     | pear       | strawberry |\n",
       "| banana     | grape      | melon      | blueberry  |\n",
       "| cherry     | pineapple  | fig        | raspberry  |\n",
       "\n"
      ],
      "text/plain": [
       "     [,1]   [,2]      [,3]  [,4]      \n",
       "[1,] apple  orange    pear  strawberry\n",
       "[2,] banana grape     melon blueberry \n",
       "[3,] cherry pineapple fig   raspberry "
      ]
     },
     "metadata": {},
     "output_type": "display_data"
    }
   ],
   "source": [
    "thismatrix <- matrix(c(\"apple\", \"banana\", \"cherry\", \"orange\",\"grape\", \"pineapple\", \"pear\", \"melon\", \"fig\"), nrow = 3, ncol = 3)\n",
    "\n",
    "newmatrix <- cbind(thismatrix, c(\"strawberry\", \"blueberry\", \"raspberry\"))\n",
    "\n",
    "# Print the new matrix\n",
    "newmatrix"
   ]
  },
  {
   "cell_type": "code",
   "execution_count": 10,
   "id": "46557681-4222-49d4-857f-d59daf3b15f4",
   "metadata": {},
   "outputs": [
    {
     "data": {
      "text/html": [
       "<table>\n",
       "<tbody>\n",
       "\t<tr><td>apple     </td><td>orange    </td><td>pear      </td></tr>\n",
       "\t<tr><td>banana    </td><td>grape     </td><td>melon     </td></tr>\n",
       "\t<tr><td>cherry    </td><td>pineapple </td><td>fig       </td></tr>\n",
       "\t<tr><td>strawberry</td><td>blueberry </td><td>raspberry </td></tr>\n",
       "</tbody>\n",
       "</table>\n"
      ],
      "text/latex": [
       "\\begin{tabular}{lll}\n",
       "\t apple      & orange     & pear      \\\\\n",
       "\t banana     & grape      & melon     \\\\\n",
       "\t cherry     & pineapple  & fig       \\\\\n",
       "\t strawberry & blueberry  & raspberry \\\\\n",
       "\\end{tabular}\n"
      ],
      "text/markdown": [
       "\n",
       "| apple      | orange     | pear       |\n",
       "| banana     | grape      | melon      |\n",
       "| cherry     | pineapple  | fig        |\n",
       "| strawberry | blueberry  | raspberry  |\n",
       "\n"
      ],
      "text/plain": [
       "     [,1]       [,2]      [,3]     \n",
       "[1,] apple      orange    pear     \n",
       "[2,] banana     grape     melon    \n",
       "[3,] cherry     pineapple fig      \n",
       "[4,] strawberry blueberry raspberry"
      ]
     },
     "metadata": {},
     "output_type": "display_data"
    }
   ],
   "source": [
    "thismatrix <- matrix(c(\"apple\", \"banana\", \"cherry\", \"orange\",\"grape\", \"pineapple\", \"pear\", \"melon\", \"fig\"), nrow = 3, ncol = 3)\n",
    "\n",
    "newmatrix <- rbind(thismatrix, c(\"strawberry\", \"blueberry\", \"raspberry\"))\n",
    "\n",
    "# Print the new matrix\n",
    "newmatrix"
   ]
  },
  {
   "cell_type": "code",
   "execution_count": 13,
   "id": "012468ec-a738-49e0-8d58-1c033763d6ee",
   "metadata": {},
   "outputs": [
    {
     "data": {
      "text/html": [
       "<table>\n",
       "<tbody>\n",
       "\t<tr><td>apple    </td><td>orange   </td></tr>\n",
       "\t<tr><td>banana   </td><td>mango    </td></tr>\n",
       "\t<tr><td>cherry   </td><td>pineapple</td></tr>\n",
       "</tbody>\n",
       "</table>\n"
      ],
      "text/latex": [
       "\\begin{tabular}{ll}\n",
       "\t apple     & orange   \\\\\n",
       "\t banana    & mango    \\\\\n",
       "\t cherry    & pineapple\\\\\n",
       "\\end{tabular}\n"
      ],
      "text/markdown": [
       "\n",
       "| apple     | orange    |\n",
       "| banana    | mango     |\n",
       "| cherry    | pineapple |\n",
       "\n"
      ],
      "text/plain": [
       "     [,1]   [,2]     \n",
       "[1,] apple  orange   \n",
       "[2,] banana mango    \n",
       "[3,] cherry pineapple"
      ]
     },
     "metadata": {},
     "output_type": "display_data"
    },
    {
     "data": {
      "text/html": [
       "<ol class=list-inline>\n",
       "\t<li>'mango'</li>\n",
       "\t<li>'pineapple'</li>\n",
       "</ol>\n"
      ],
      "text/latex": [
       "\\begin{enumerate*}\n",
       "\\item 'mango'\n",
       "\\item 'pineapple'\n",
       "\\end{enumerate*}\n"
      ],
      "text/markdown": [
       "1. 'mango'\n",
       "2. 'pineapple'\n",
       "\n",
       "\n"
      ],
      "text/plain": [
       "[1] \"mango\"     \"pineapple\""
      ]
     },
     "metadata": {},
     "output_type": "display_data"
    }
   ],
   "source": [
    "thismatrix <- matrix(c(\"apple\", \"banana\", \"cherry\", \"orange\", \"mango\", \"pineapple\"), nrow = 3, ncol =2)\n",
    "thismatrix\n",
    "#Remove the first row and the first column\n",
    "thismatrix <- thismatrix[-c(1), -c(1)]\n",
    "\n",
    "thismatrix"
   ]
  },
  {
   "cell_type": "code",
   "execution_count": 14,
   "id": "432c68d6-b8e6-47d0-aa7e-c3daf68d6a8d",
   "metadata": {},
   "outputs": [
    {
     "data": {
      "text/html": [
       "TRUE"
      ],
      "text/latex": [
       "TRUE"
      ],
      "text/markdown": [
       "TRUE"
      ],
      "text/plain": [
       "[1] TRUE"
      ]
     },
     "metadata": {},
     "output_type": "display_data"
    }
   ],
   "source": [
    "thismatrix <- matrix(c(\"apple\", \"banana\", \"cherry\", \"orange\"), nrow = 2, ncol = 2)\n",
    "\n",
    "\"apple\" %in% thismatrix"
   ]
  },
  {
   "cell_type": "code",
   "execution_count": 15,
   "id": "e6c53e22-eadb-447d-a2ff-d6e923a60162",
   "metadata": {},
   "outputs": [
    {
     "data": {
      "text/html": [
       "<ol class=list-inline>\n",
       "\t<li>2</li>\n",
       "\t<li>2</li>\n",
       "</ol>\n"
      ],
      "text/latex": [
       "\\begin{enumerate*}\n",
       "\\item 2\n",
       "\\item 2\n",
       "\\end{enumerate*}\n"
      ],
      "text/markdown": [
       "1. 2\n",
       "2. 2\n",
       "\n",
       "\n"
      ],
      "text/plain": [
       "[1] 2 2"
      ]
     },
     "metadata": {},
     "output_type": "display_data"
    }
   ],
   "source": [
    "thismatrix <- matrix(c(\"apple\", \"banana\", \"cherry\", \"orange\"), nrow = 2, ncol = 2)\n",
    "\n",
    "dim(thismatrix)"
   ]
  },
  {
   "cell_type": "code",
   "execution_count": 16,
   "id": "f6d6ee72-f9f8-49d3-ade5-f716c50648ef",
   "metadata": {},
   "outputs": [
    {
     "data": {
      "text/html": [
       "4"
      ],
      "text/latex": [
       "4"
      ],
      "text/markdown": [
       "4"
      ],
      "text/plain": [
       "[1] 4"
      ]
     },
     "metadata": {},
     "output_type": "display_data"
    }
   ],
   "source": [
    "thismatrix <- matrix(c(\"apple\", \"banana\", \"cherry\", \"orange\"), nrow = 2, ncol = 2)\n",
    "\n",
    "length(thismatrix)"
   ]
  },
  {
   "cell_type": "code",
   "execution_count": 17,
   "id": "658e840d-6b15-4544-b028-241742be3c1e",
   "metadata": {},
   "outputs": [
    {
     "name": "stdout",
     "output_type": "stream",
     "text": [
      "[1] \"apple\"\n",
      "[1] \"cherry\"\n",
      "[1] \"banana\"\n",
      "[1] \"orange\"\n"
     ]
    }
   ],
   "source": [
    "thismatrix <- matrix(c(\"apple\", \"banana\", \"cherry\", \"orange\"), nrow = 2, ncol = 2)\n",
    "\n",
    "for (rows in 1:nrow(thismatrix)) {\n",
    "  for (columns in 1:ncol(thismatrix)) {\n",
    "    print(thismatrix[rows, columns])\n",
    "  }\n",
    "}"
   ]
  },
  {
   "cell_type": "code",
   "execution_count": 18,
   "id": "62f35067-c1c2-4bce-b017-2b88224d9a4a",
   "metadata": {},
   "outputs": [
    {
     "data": {
      "text/html": [
       "<table>\n",
       "<tbody>\n",
       "\t<tr><td>apple     </td><td>cherry    </td></tr>\n",
       "\t<tr><td>banana    </td><td>grape     </td></tr>\n",
       "\t<tr><td>orange    </td><td>pineapple </td></tr>\n",
       "\t<tr><td>mango     </td><td>watermelon</td></tr>\n",
       "</tbody>\n",
       "</table>\n"
      ],
      "text/latex": [
       "\\begin{tabular}{ll}\n",
       "\t apple      & cherry    \\\\\n",
       "\t banana     & grape     \\\\\n",
       "\t orange     & pineapple \\\\\n",
       "\t mango      & watermelon\\\\\n",
       "\\end{tabular}\n"
      ],
      "text/markdown": [
       "\n",
       "| apple      | cherry     |\n",
       "| banana     | grape      |\n",
       "| orange     | pineapple  |\n",
       "| mango      | watermelon |\n",
       "\n"
      ],
      "text/plain": [
       "     [,1]   [,2]      \n",
       "[1,] apple  cherry    \n",
       "[2,] banana grape     \n",
       "[3,] orange pineapple \n",
       "[4,] mango  watermelon"
      ]
     },
     "metadata": {},
     "output_type": "display_data"
    },
    {
     "data": {
      "text/html": [
       "<table>\n",
       "<tbody>\n",
       "\t<tr><td>apple     </td><td>cherry    </td><td>orange    </td><td>pineapple </td></tr>\n",
       "\t<tr><td>banana    </td><td>grape     </td><td>mango     </td><td>watermelon</td></tr>\n",
       "</tbody>\n",
       "</table>\n"
      ],
      "text/latex": [
       "\\begin{tabular}{llll}\n",
       "\t apple      & cherry     & orange     & pineapple \\\\\n",
       "\t banana     & grape      & mango      & watermelon\\\\\n",
       "\\end{tabular}\n"
      ],
      "text/markdown": [
       "\n",
       "| apple      | cherry     | orange     | pineapple  |\n",
       "| banana     | grape      | mango      | watermelon |\n",
       "\n"
      ],
      "text/plain": [
       "     [,1]   [,2]   [,3]   [,4]      \n",
       "[1,] apple  cherry orange pineapple \n",
       "[2,] banana grape  mango  watermelon"
      ]
     },
     "metadata": {},
     "output_type": "display_data"
    }
   ],
   "source": [
    "# Combine matrices\n",
    "Matrix1 <- matrix(c(\"apple\", \"banana\", \"cherry\", \"grape\"), nrow = 2, ncol = 2)\n",
    "Matrix2 <- matrix(c(\"orange\", \"mango\", \"pineapple\", \"watermelon\"), nrow = 2, ncol = 2)\n",
    "\n",
    "# Adding it as a rows\n",
    "Matrix_Combined <- rbind(Matrix1, Matrix2)\n",
    "Matrix_Combined\n",
    "\n",
    "# Adding it as a columns\n",
    "Matrix_Combined <- cbind(Matrix1, Matrix2)\n",
    "Matrix_Combined"
   ]
  },
  {
   "cell_type": "code",
   "execution_count": null,
   "id": "9bf005ea-adee-4d61-a511-f14760d79198",
   "metadata": {},
   "outputs": [],
   "source": []
  }
 ],
 "metadata": {
  "kernelspec": {
   "display_name": "R",
   "language": "R",
   "name": "ir"
  },
  "language_info": {
   "codemirror_mode": "r",
   "file_extension": ".r",
   "mimetype": "text/x-r-source",
   "name": "R",
   "pygments_lexer": "r",
   "version": "3.6.3"
  }
 },
 "nbformat": 4,
 "nbformat_minor": 5
}
