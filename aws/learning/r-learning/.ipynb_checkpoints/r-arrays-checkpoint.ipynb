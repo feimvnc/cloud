{
 "cells": [
  {
   "cell_type": "markdown",
   "id": "f309bac8-940f-4c16-8b5d-e2974304cc44",
   "metadata": {},
   "source": [
    "## R arrays"
   ]
  },
  {
   "cell_type": "code",
   "execution_count": null,
   "id": "701ee337-6172-4dba-894b-d0717e12248b",
   "metadata": {},
   "outputs": [],
   "source": []
  }
 ],
 "metadata": {
  "kernelspec": {
   "display_name": "R",
   "language": "R",
   "name": "ir"
  },
  "language_info": {
   "codemirror_mode": "r",
   "file_extension": ".r",
   "mimetype": "text/x-r-source",
   "name": "R",
   "pygments_lexer": "r",
   "version": "3.6.3"
  }
 },
 "nbformat": 4,
 "nbformat_minor": 5
}
