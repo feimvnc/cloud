{
 "cells": [
  {
   "cell_type": "markdown",
   "id": "c0a8836c-500c-44e2-8c10-32224cba5d5a",
   "metadata": {},
   "source": [
    "## R Data Frames"
   ]
  },
  {
   "cell_type": "code",
   "execution_count": 1,
   "id": "25b797a9-0ea2-44e8-a76b-21a6ee25f2eb",
   "metadata": {},
   "outputs": [
    {
     "data": {
      "text/html": [
       "<table>\n",
       "<thead><tr><th scope=col>Training</th><th scope=col>Pulse</th><th scope=col>Duration</th></tr></thead>\n",
       "<tbody>\n",
       "\t<tr><td>Strength</td><td>100     </td><td>60      </td></tr>\n",
       "\t<tr><td>Stamina </td><td>150     </td><td>30      </td></tr>\n",
       "\t<tr><td>Other   </td><td>120     </td><td>45      </td></tr>\n",
       "</tbody>\n",
       "</table>\n"
      ],
      "text/latex": [
       "\\begin{tabular}{r|lll}\n",
       " Training & Pulse & Duration\\\\\n",
       "\\hline\n",
       "\t Strength & 100      & 60      \\\\\n",
       "\t Stamina  & 150      & 30      \\\\\n",
       "\t Other    & 120      & 45      \\\\\n",
       "\\end{tabular}\n"
      ],
      "text/markdown": [
       "\n",
       "| Training | Pulse | Duration |\n",
       "|---|---|---|\n",
       "| Strength | 100      | 60       |\n",
       "| Stamina  | 150      | 30       |\n",
       "| Other    | 120      | 45       |\n",
       "\n"
      ],
      "text/plain": [
       "  Training Pulse Duration\n",
       "1 Strength 100   60      \n",
       "2 Stamina  150   30      \n",
       "3 Other    120   45      "
      ]
     },
     "metadata": {},
     "output_type": "display_data"
    }
   ],
   "source": [
    "# Create a data frame\n",
    "Data_Frame <- data.frame (\n",
    "  Training = c(\"Strength\", \"Stamina\", \"Other\"),\n",
    "  Pulse = c(100, 150, 120),\n",
    "  Duration = c(60, 30, 45)\n",
    ")\n",
    "\n",
    "# Print the data frame\n",
    "Data_Frame"
   ]
  },
  {
   "cell_type": "code",
   "execution_count": 2,
   "id": "45883eab-0caa-4f28-b8af-be7c5430b28c",
   "metadata": {},
   "outputs": [
    {
     "data": {
      "text/html": [
       "<table>\n",
       "<thead><tr><th scope=col>Training</th><th scope=col>Pulse</th><th scope=col>Duration</th></tr></thead>\n",
       "<tbody>\n",
       "\t<tr><td>Strength</td><td>100     </td><td>60      </td></tr>\n",
       "\t<tr><td>Stamina </td><td>150     </td><td>30      </td></tr>\n",
       "\t<tr><td>Other   </td><td>120     </td><td>45      </td></tr>\n",
       "</tbody>\n",
       "</table>\n"
      ],
      "text/latex": [
       "\\begin{tabular}{r|lll}\n",
       " Training & Pulse & Duration\\\\\n",
       "\\hline\n",
       "\t Strength & 100      & 60      \\\\\n",
       "\t Stamina  & 150      & 30      \\\\\n",
       "\t Other    & 120      & 45      \\\\\n",
       "\\end{tabular}\n"
      ],
      "text/markdown": [
       "\n",
       "| Training | Pulse | Duration |\n",
       "|---|---|---|\n",
       "| Strength | 100      | 60       |\n",
       "| Stamina  | 150      | 30       |\n",
       "| Other    | 120      | 45       |\n",
       "\n"
      ],
      "text/plain": [
       "  Training Pulse Duration\n",
       "1 Strength 100   60      \n",
       "2 Stamina  150   30      \n",
       "3 Other    120   45      "
      ]
     },
     "metadata": {},
     "output_type": "display_data"
    },
    {
     "data": {
      "text/plain": [
       "     Training     Pulse          Duration   \n",
       " Other   :1   Min.   :100.0   Min.   :30.0  \n",
       " Stamina :1   1st Qu.:110.0   1st Qu.:37.5  \n",
       " Strength:1   Median :120.0   Median :45.0  \n",
       "              Mean   :123.3   Mean   :45.0  \n",
       "              3rd Qu.:135.0   3rd Qu.:52.5  \n",
       "              Max.   :150.0   Max.   :60.0  "
      ]
     },
     "metadata": {},
     "output_type": "display_data"
    }
   ],
   "source": [
    "Data_Frame <- data.frame (\n",
    "  Training = c(\"Strength\", \"Stamina\", \"Other\"),\n",
    "  Pulse = c(100, 150, 120),\n",
    "  Duration = c(60, 30, 45)\n",
    ")\n",
    "\n",
    "Data_Frame\n",
    "\n",
    "summary(Data_Frame)"
   ]
  },
  {
   "cell_type": "code",
   "execution_count": 3,
   "id": "e01bc950-aa4b-45c2-a7c2-21e58618c2ac",
   "metadata": {},
   "outputs": [
    {
     "data": {
      "text/html": [
       "<table>\n",
       "<thead><tr><th scope=col>Training</th></tr></thead>\n",
       "<tbody>\n",
       "\t<tr><td>Strength</td></tr>\n",
       "\t<tr><td>Stamina </td></tr>\n",
       "\t<tr><td>Other   </td></tr>\n",
       "</tbody>\n",
       "</table>\n"
      ],
      "text/latex": [
       "\\begin{tabular}{r|l}\n",
       " Training\\\\\n",
       "\\hline\n",
       "\t Strength\\\\\n",
       "\t Stamina \\\\\n",
       "\t Other   \\\\\n",
       "\\end{tabular}\n"
      ],
      "text/markdown": [
       "\n",
       "| Training |\n",
       "|---|\n",
       "| Strength |\n",
       "| Stamina  |\n",
       "| Other    |\n",
       "\n"
      ],
      "text/plain": [
       "  Training\n",
       "1 Strength\n",
       "2 Stamina \n",
       "3 Other   "
      ]
     },
     "metadata": {},
     "output_type": "display_data"
    },
    {
     "data": {
      "text/html": [
       "<ol class=list-inline>\n",
       "\t<li>Strength</li>\n",
       "\t<li>Stamina</li>\n",
       "\t<li>Other</li>\n",
       "</ol>\n",
       "\n",
       "<details>\n",
       "\t<summary style=display:list-item;cursor:pointer>\n",
       "\t\t<strong>Levels</strong>:\n",
       "\t</summary>\n",
       "\t<ol class=list-inline>\n",
       "\t\t<li>'Other'</li>\n",
       "\t\t<li>'Stamina'</li>\n",
       "\t\t<li>'Strength'</li>\n",
       "\t</ol>\n",
       "</details>"
      ],
      "text/latex": [
       "\\begin{enumerate*}\n",
       "\\item Strength\n",
       "\\item Stamina\n",
       "\\item Other\n",
       "\\end{enumerate*}\n",
       "\n",
       "\\emph{Levels}: \\begin{enumerate*}\n",
       "\\item 'Other'\n",
       "\\item 'Stamina'\n",
       "\\item 'Strength'\n",
       "\\end{enumerate*}\n"
      ],
      "text/markdown": [
       "1. Strength\n",
       "2. Stamina\n",
       "3. Other\n",
       "\n",
       "\n",
       "\n",
       "**Levels**: 1. 'Other'\n",
       "2. 'Stamina'\n",
       "3. 'Strength'\n",
       "\n",
       "\n"
      ],
      "text/plain": [
       "[1] Strength Stamina  Other   \n",
       "Levels: Other Stamina Strength"
      ]
     },
     "metadata": {},
     "output_type": "display_data"
    },
    {
     "data": {
      "text/html": [
       "<ol class=list-inline>\n",
       "\t<li>Strength</li>\n",
       "\t<li>Stamina</li>\n",
       "\t<li>Other</li>\n",
       "</ol>\n",
       "\n",
       "<details>\n",
       "\t<summary style=display:list-item;cursor:pointer>\n",
       "\t\t<strong>Levels</strong>:\n",
       "\t</summary>\n",
       "\t<ol class=list-inline>\n",
       "\t\t<li>'Other'</li>\n",
       "\t\t<li>'Stamina'</li>\n",
       "\t\t<li>'Strength'</li>\n",
       "\t</ol>\n",
       "</details>"
      ],
      "text/latex": [
       "\\begin{enumerate*}\n",
       "\\item Strength\n",
       "\\item Stamina\n",
       "\\item Other\n",
       "\\end{enumerate*}\n",
       "\n",
       "\\emph{Levels}: \\begin{enumerate*}\n",
       "\\item 'Other'\n",
       "\\item 'Stamina'\n",
       "\\item 'Strength'\n",
       "\\end{enumerate*}\n"
      ],
      "text/markdown": [
       "1. Strength\n",
       "2. Stamina\n",
       "3. Other\n",
       "\n",
       "\n",
       "\n",
       "**Levels**: 1. 'Other'\n",
       "2. 'Stamina'\n",
       "3. 'Strength'\n",
       "\n",
       "\n"
      ],
      "text/plain": [
       "[1] Strength Stamina  Other   \n",
       "Levels: Other Stamina Strength"
      ]
     },
     "metadata": {},
     "output_type": "display_data"
    }
   ],
   "source": [
    "Data_Frame <- data.frame (\n",
    "  Training = c(\"Strength\", \"Stamina\", \"Other\"),\n",
    "  Pulse = c(100, 150, 120),\n",
    "  Duration = c(60, 30, 45)\n",
    ")\n",
    "\n",
    "Data_Frame[1]\n",
    "\n",
    "Data_Frame[[\"Training\"]]\n",
    "\n",
    "Data_Frame$Training"
   ]
  },
  {
   "cell_type": "code",
   "execution_count": 4,
   "id": "aecd6e0e-50ad-4a6e-943f-11c7dc48ab73",
   "metadata": {},
   "outputs": [
    {
     "data": {
      "text/html": [
       "<table>\n",
       "<thead><tr><th scope=col>Training</th><th scope=col>Pulse</th><th scope=col>Duration</th></tr></thead>\n",
       "<tbody>\n",
       "\t<tr><td>Strength</td><td>100     </td><td>60      </td></tr>\n",
       "\t<tr><td>Stamina </td><td>150     </td><td>30      </td></tr>\n",
       "\t<tr><td>Other   </td><td>120     </td><td>45      </td></tr>\n",
       "\t<tr><td>Strength</td><td>110     </td><td>110     </td></tr>\n",
       "</tbody>\n",
       "</table>\n"
      ],
      "text/latex": [
       "\\begin{tabular}{r|lll}\n",
       " Training & Pulse & Duration\\\\\n",
       "\\hline\n",
       "\t Strength & 100      & 60      \\\\\n",
       "\t Stamina  & 150      & 30      \\\\\n",
       "\t Other    & 120      & 45      \\\\\n",
       "\t Strength & 110      & 110     \\\\\n",
       "\\end{tabular}\n"
      ],
      "text/markdown": [
       "\n",
       "| Training | Pulse | Duration |\n",
       "|---|---|---|\n",
       "| Strength | 100      | 60       |\n",
       "| Stamina  | 150      | 30       |\n",
       "| Other    | 120      | 45       |\n",
       "| Strength | 110      | 110      |\n",
       "\n"
      ],
      "text/plain": [
       "  Training Pulse Duration\n",
       "1 Strength 100   60      \n",
       "2 Stamina  150   30      \n",
       "3 Other    120   45      \n",
       "4 Strength 110   110     "
      ]
     },
     "metadata": {},
     "output_type": "display_data"
    }
   ],
   "source": [
    "Data_Frame <- data.frame (\n",
    "  Training = c(\"Strength\", \"Stamina\", \"Other\"),\n",
    "  Pulse = c(100, 150, 120),\n",
    "  Duration = c(60, 30, 45)\n",
    ")\n",
    "\n",
    "# Add a new row\n",
    "New_row_DF <- rbind(Data_Frame, c(\"Strength\", 110, 110))\n",
    "\n",
    "# Print the new row\n",
    "New_row_DF"
   ]
  },
  {
   "cell_type": "code",
   "execution_count": 5,
   "id": "972d6024-276b-4406-864b-6601cec54ac9",
   "metadata": {},
   "outputs": [
    {
     "data": {
      "text/html": [
       "<table>\n",
       "<thead><tr><th scope=col>Training</th><th scope=col>Pulse</th><th scope=col>Duration</th><th scope=col>Steps</th></tr></thead>\n",
       "<tbody>\n",
       "\t<tr><td>Strength</td><td>100     </td><td>60      </td><td>1000    </td></tr>\n",
       "\t<tr><td>Stamina </td><td>150     </td><td>30      </td><td>6000    </td></tr>\n",
       "\t<tr><td>Other   </td><td>120     </td><td>45      </td><td>2000    </td></tr>\n",
       "</tbody>\n",
       "</table>\n"
      ],
      "text/latex": [
       "\\begin{tabular}{r|llll}\n",
       " Training & Pulse & Duration & Steps\\\\\n",
       "\\hline\n",
       "\t Strength & 100      & 60       & 1000    \\\\\n",
       "\t Stamina  & 150      & 30       & 6000    \\\\\n",
       "\t Other    & 120      & 45       & 2000    \\\\\n",
       "\\end{tabular}\n"
      ],
      "text/markdown": [
       "\n",
       "| Training | Pulse | Duration | Steps |\n",
       "|---|---|---|---|\n",
       "| Strength | 100      | 60       | 1000     |\n",
       "| Stamina  | 150      | 30       | 6000     |\n",
       "| Other    | 120      | 45       | 2000     |\n",
       "\n"
      ],
      "text/plain": [
       "  Training Pulse Duration Steps\n",
       "1 Strength 100   60       1000 \n",
       "2 Stamina  150   30       6000 \n",
       "3 Other    120   45       2000 "
      ]
     },
     "metadata": {},
     "output_type": "display_data"
    }
   ],
   "source": [
    "Data_Frame <- data.frame (\n",
    "  Training = c(\"Strength\", \"Stamina\", \"Other\"),\n",
    "  Pulse = c(100, 150, 120),\n",
    "  Duration = c(60, 30, 45)\n",
    ")\n",
    "\n",
    "# Add a new column\n",
    "New_col_DF <- cbind(Data_Frame, Steps = c(1000, 6000, 2000))\n",
    "\n",
    "# Print the new column\n",
    "New_col_DF"
   ]
  },
  {
   "cell_type": "code",
   "execution_count": 6,
   "id": "47af0d5c-1d31-4432-b1ee-f83f24335a9d",
   "metadata": {},
   "outputs": [
    {
     "data": {
      "text/html": [
       "<table>\n",
       "<thead><tr><th></th><th scope=col>Pulse</th><th scope=col>Duration</th></tr></thead>\n",
       "<tbody>\n",
       "\t<tr><th scope=row>2</th><td>150</td><td>30 </td></tr>\n",
       "\t<tr><th scope=row>3</th><td>120</td><td>45 </td></tr>\n",
       "</tbody>\n",
       "</table>\n"
      ],
      "text/latex": [
       "\\begin{tabular}{r|ll}\n",
       "  & Pulse & Duration\\\\\n",
       "\\hline\n",
       "\t2 & 150 & 30 \\\\\n",
       "\t3 & 120 & 45 \\\\\n",
       "\\end{tabular}\n"
      ],
      "text/markdown": [
       "\n",
       "| <!--/--> | Pulse | Duration |\n",
       "|---|---|---|\n",
       "| 2 | 150 | 30  |\n",
       "| 3 | 120 | 45  |\n",
       "\n"
      ],
      "text/plain": [
       "  Pulse Duration\n",
       "2 150   30      \n",
       "3 120   45      "
      ]
     },
     "metadata": {},
     "output_type": "display_data"
    }
   ],
   "source": [
    "Data_Frame <- data.frame (\n",
    "  Training = c(\"Strength\", \"Stamina\", \"Other\"),\n",
    "  Pulse = c(100, 150, 120),\n",
    "  Duration = c(60, 30, 45)\n",
    ")\n",
    "\n",
    "# Remove the first row and column\n",
    "Data_Frame_New <- Data_Frame[-c(1), -c(1)]\n",
    "\n",
    "# Print the new data frame\n",
    "Data_Frame_New"
   ]
  },
  {
   "cell_type": "code",
   "execution_count": 7,
   "id": "18916616-a26d-4666-8c10-7a48a9e625f5",
   "metadata": {},
   "outputs": [
    {
     "data": {
      "text/html": [
       "<ol class=list-inline>\n",
       "\t<li>3</li>\n",
       "\t<li>3</li>\n",
       "</ol>\n"
      ],
      "text/latex": [
       "\\begin{enumerate*}\n",
       "\\item 3\n",
       "\\item 3\n",
       "\\end{enumerate*}\n"
      ],
      "text/markdown": [
       "1. 3\n",
       "2. 3\n",
       "\n",
       "\n"
      ],
      "text/plain": [
       "[1] 3 3"
      ]
     },
     "metadata": {},
     "output_type": "display_data"
    }
   ],
   "source": [
    "Data_Frame <- data.frame (\n",
    "  Training = c(\"Strength\", \"Stamina\", \"Other\"),\n",
    "  Pulse = c(100, 150, 120),\n",
    "  Duration = c(60, 30, 45)\n",
    ")\n",
    "\n",
    "dim(Data_Frame)"
   ]
  },
  {
   "cell_type": "code",
   "execution_count": 8,
   "id": "7d286743-a1ce-44dd-8850-60b730d343cf",
   "metadata": {},
   "outputs": [
    {
     "data": {
      "text/html": [
       "3"
      ],
      "text/latex": [
       "3"
      ],
      "text/markdown": [
       "3"
      ],
      "text/plain": [
       "[1] 3"
      ]
     },
     "metadata": {},
     "output_type": "display_data"
    },
    {
     "data": {
      "text/html": [
       "3"
      ],
      "text/latex": [
       "3"
      ],
      "text/markdown": [
       "3"
      ],
      "text/plain": [
       "[1] 3"
      ]
     },
     "metadata": {},
     "output_type": "display_data"
    }
   ],
   "source": [
    "Data_Frame <- data.frame (\n",
    "  Training = c(\"Strength\", \"Stamina\", \"Other\"),\n",
    "  Pulse = c(100, 150, 120),\n",
    "  Duration = c(60, 30, 45)\n",
    ")\n",
    "\n",
    "ncol(Data_Frame)\n",
    "nrow(Data_Frame)"
   ]
  },
  {
   "cell_type": "code",
   "execution_count": 9,
   "id": "d94fadd9-5f20-4929-bc1b-8bf79730d215",
   "metadata": {},
   "outputs": [
    {
     "data": {
      "text/html": [
       "3"
      ],
      "text/latex": [
       "3"
      ],
      "text/markdown": [
       "3"
      ],
      "text/plain": [
       "[1] 3"
      ]
     },
     "metadata": {},
     "output_type": "display_data"
    }
   ],
   "source": [
    "Data_Frame <- data.frame (\n",
    "  Training = c(\"Strength\", \"Stamina\", \"Other\"),\n",
    "  Pulse = c(100, 150, 120),\n",
    "  Duration = c(60, 30, 45)\n",
    ")\n",
    "\n",
    "length(Data_Frame)"
   ]
  },
  {
   "cell_type": "code",
   "execution_count": 10,
   "id": "e8572c28-e3a2-437b-83a0-97a1ea2cd6b6",
   "metadata": {},
   "outputs": [
    {
     "data": {
      "text/html": [
       "<table>\n",
       "<thead><tr><th scope=col>Training</th><th scope=col>Pulse</th><th scope=col>Duration</th></tr></thead>\n",
       "<tbody>\n",
       "\t<tr><td>Strength</td><td>100     </td><td>60      </td></tr>\n",
       "\t<tr><td>Stamina </td><td>150     </td><td>30      </td></tr>\n",
       "\t<tr><td>Other   </td><td>120     </td><td>45      </td></tr>\n",
       "\t<tr><td>Stamina </td><td>140     </td><td>30      </td></tr>\n",
       "\t<tr><td>Stamina </td><td>150     </td><td>30      </td></tr>\n",
       "\t<tr><td>Strength</td><td>160     </td><td>20      </td></tr>\n",
       "</tbody>\n",
       "</table>\n"
      ],
      "text/latex": [
       "\\begin{tabular}{r|lll}\n",
       " Training & Pulse & Duration\\\\\n",
       "\\hline\n",
       "\t Strength & 100      & 60      \\\\\n",
       "\t Stamina  & 150      & 30      \\\\\n",
       "\t Other    & 120      & 45      \\\\\n",
       "\t Stamina  & 140      & 30      \\\\\n",
       "\t Stamina  & 150      & 30      \\\\\n",
       "\t Strength & 160      & 20      \\\\\n",
       "\\end{tabular}\n"
      ],
      "text/markdown": [
       "\n",
       "| Training | Pulse | Duration |\n",
       "|---|---|---|\n",
       "| Strength | 100      | 60       |\n",
       "| Stamina  | 150      | 30       |\n",
       "| Other    | 120      | 45       |\n",
       "| Stamina  | 140      | 30       |\n",
       "| Stamina  | 150      | 30       |\n",
       "| Strength | 160      | 20       |\n",
       "\n"
      ],
      "text/plain": [
       "  Training Pulse Duration\n",
       "1 Strength 100   60      \n",
       "2 Stamina  150   30      \n",
       "3 Other    120   45      \n",
       "4 Stamina  140   30      \n",
       "5 Stamina  150   30      \n",
       "6 Strength 160   20      "
      ]
     },
     "metadata": {},
     "output_type": "display_data"
    }
   ],
   "source": [
    "Data_Frame1 <- data.frame (\n",
    "  Training = c(\"Strength\", \"Stamina\", \"Other\"),\n",
    "  Pulse = c(100, 150, 120),\n",
    "  Duration = c(60, 30, 45)\n",
    ")\n",
    "\n",
    "Data_Frame2 <- data.frame (\n",
    "  Training = c(\"Stamina\", \"Stamina\", \"Strength\"),\n",
    "  Pulse = c(140, 150, 160),\n",
    "  Duration = c(30, 30, 20)\n",
    ")\n",
    "\n",
    "New_Data_Frame <- rbind(Data_Frame1, Data_Frame2)\n",
    "New_Data_Frame"
   ]
  },
  {
   "cell_type": "code",
   "execution_count": 11,
   "id": "70190cac-7232-4186-aa42-9d2089c0ec38",
   "metadata": {},
   "outputs": [
    {
     "data": {
      "text/html": [
       "<table>\n",
       "<thead><tr><th scope=col>Training</th><th scope=col>Pulse</th><th scope=col>Duration</th><th scope=col>Steps</th><th scope=col>Calories</th></tr></thead>\n",
       "<tbody>\n",
       "\t<tr><td>Strength</td><td>100     </td><td>60      </td><td>3000    </td><td>300     </td></tr>\n",
       "\t<tr><td>Stamina </td><td>150     </td><td>30      </td><td>6000    </td><td>400     </td></tr>\n",
       "\t<tr><td>Other   </td><td>120     </td><td>45      </td><td>2000    </td><td>300     </td></tr>\n",
       "</tbody>\n",
       "</table>\n"
      ],
      "text/latex": [
       "\\begin{tabular}{r|lllll}\n",
       " Training & Pulse & Duration & Steps & Calories\\\\\n",
       "\\hline\n",
       "\t Strength & 100      & 60       & 3000     & 300     \\\\\n",
       "\t Stamina  & 150      & 30       & 6000     & 400     \\\\\n",
       "\t Other    & 120      & 45       & 2000     & 300     \\\\\n",
       "\\end{tabular}\n"
      ],
      "text/markdown": [
       "\n",
       "| Training | Pulse | Duration | Steps | Calories |\n",
       "|---|---|---|---|---|\n",
       "| Strength | 100      | 60       | 3000     | 300      |\n",
       "| Stamina  | 150      | 30       | 6000     | 400      |\n",
       "| Other    | 120      | 45       | 2000     | 300      |\n",
       "\n"
      ],
      "text/plain": [
       "  Training Pulse Duration Steps Calories\n",
       "1 Strength 100   60       3000  300     \n",
       "2 Stamina  150   30       6000  400     \n",
       "3 Other    120   45       2000  300     "
      ]
     },
     "metadata": {},
     "output_type": "display_data"
    }
   ],
   "source": [
    "Data_Frame3 <- data.frame (\n",
    "  Training = c(\"Strength\", \"Stamina\", \"Other\"),\n",
    "  Pulse = c(100, 150, 120),\n",
    "  Duration = c(60, 30, 45)\n",
    ")\n",
    "\n",
    "Data_Frame4 <- data.frame (\n",
    "  Steps = c(3000, 6000, 2000),\n",
    "  Calories = c(300, 400, 300)\n",
    ")\n",
    "\n",
    "New_Data_Frame1 <- cbind(Data_Frame3, Data_Frame4)\n",
    "New_Data_Frame1"
   ]
  },
  {
   "cell_type": "code",
   "execution_count": null,
   "id": "af5b5ed7-ab11-463e-89d8-808a16675764",
   "metadata": {},
   "outputs": [],
   "source": []
  }
 ],
 "metadata": {
  "kernelspec": {
   "display_name": "R",
   "language": "R",
   "name": "ir"
  },
  "language_info": {
   "codemirror_mode": "r",
   "file_extension": ".r",
   "mimetype": "text/x-r-source",
   "name": "R",
   "pygments_lexer": "r",
   "version": "3.6.3"
  }
 },
 "nbformat": 4,
 "nbformat_minor": 5
}
