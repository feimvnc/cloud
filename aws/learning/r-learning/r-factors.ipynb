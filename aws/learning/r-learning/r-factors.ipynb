{
 "cells": [
  {
   "cell_type": "markdown",
   "id": "e81254a3-ece3-4f1b-9fed-794f8844c7d4",
   "metadata": {},
   "source": [
    "## R Factors\n",
    "Factors are used to categorize data. Examples of factors are:  \n",
    "\n",
    "Demography: Male/Female  \n",
    "Music: Rock, Pop, Classic, Jazz  \n",
    "Training: Strength, Stamina  "
   ]
  },
  {
   "cell_type": "code",
   "execution_count": 1,
   "id": "c2a910dc-a9c7-4923-b6c5-80ce008d6ac7",
   "metadata": {},
   "outputs": [
    {
     "data": {
      "text/html": [
       "<ol class=list-inline>\n",
       "\t<li>Jazz</li>\n",
       "\t<li>Rock</li>\n",
       "\t<li>Classic</li>\n",
       "\t<li>Classic</li>\n",
       "\t<li>Pop</li>\n",
       "\t<li>Jazz</li>\n",
       "\t<li>Rock</li>\n",
       "\t<li>Jazz</li>\n",
       "</ol>\n",
       "\n",
       "<details>\n",
       "\t<summary style=display:list-item;cursor:pointer>\n",
       "\t\t<strong>Levels</strong>:\n",
       "\t</summary>\n",
       "\t<ol class=list-inline>\n",
       "\t\t<li>'Classic'</li>\n",
       "\t\t<li>'Jazz'</li>\n",
       "\t\t<li>'Pop'</li>\n",
       "\t\t<li>'Rock'</li>\n",
       "\t</ol>\n",
       "</details>"
      ],
      "text/latex": [
       "\\begin{enumerate*}\n",
       "\\item Jazz\n",
       "\\item Rock\n",
       "\\item Classic\n",
       "\\item Classic\n",
       "\\item Pop\n",
       "\\item Jazz\n",
       "\\item Rock\n",
       "\\item Jazz\n",
       "\\end{enumerate*}\n",
       "\n",
       "\\emph{Levels}: \\begin{enumerate*}\n",
       "\\item 'Classic'\n",
       "\\item 'Jazz'\n",
       "\\item 'Pop'\n",
       "\\item 'Rock'\n",
       "\\end{enumerate*}\n"
      ],
      "text/markdown": [
       "1. Jazz\n",
       "2. Rock\n",
       "3. Classic\n",
       "4. Classic\n",
       "5. Pop\n",
       "6. Jazz\n",
       "7. Rock\n",
       "8. Jazz\n",
       "\n",
       "\n",
       "\n",
       "**Levels**: 1. 'Classic'\n",
       "2. 'Jazz'\n",
       "3. 'Pop'\n",
       "4. 'Rock'\n",
       "\n",
       "\n"
      ],
      "text/plain": [
       "[1] Jazz    Rock    Classic Classic Pop     Jazz    Rock    Jazz   \n",
       "Levels: Classic Jazz Pop Rock"
      ]
     },
     "metadata": {},
     "output_type": "display_data"
    }
   ],
   "source": [
    "# Create a factor\n",
    "music_genre <- factor(c(\"Jazz\", \"Rock\", \"Classic\", \"Classic\", \"Pop\", \"Jazz\", \"Rock\", \"Jazz\"))\n",
    "\n",
    "# Print the factor\n",
    "music_genre"
   ]
  },
  {
   "cell_type": "code",
   "execution_count": 2,
   "id": "9248eccd-df7d-4245-bbd8-9d696968dfd2",
   "metadata": {},
   "outputs": [
    {
     "data": {
      "text/html": [
       "<ol class=list-inline>\n",
       "\t<li>'Classic'</li>\n",
       "\t<li>'Jazz'</li>\n",
       "\t<li>'Pop'</li>\n",
       "\t<li>'Rock'</li>\n",
       "</ol>\n"
      ],
      "text/latex": [
       "\\begin{enumerate*}\n",
       "\\item 'Classic'\n",
       "\\item 'Jazz'\n",
       "\\item 'Pop'\n",
       "\\item 'Rock'\n",
       "\\end{enumerate*}\n"
      ],
      "text/markdown": [
       "1. 'Classic'\n",
       "2. 'Jazz'\n",
       "3. 'Pop'\n",
       "4. 'Rock'\n",
       "\n",
       "\n"
      ],
      "text/plain": [
       "[1] \"Classic\" \"Jazz\"    \"Pop\"     \"Rock\"   "
      ]
     },
     "metadata": {},
     "output_type": "display_data"
    }
   ],
   "source": [
    "music_genre <- factor(c(\"Jazz\", \"Rock\", \"Classic\", \"Classic\", \"Pop\", \"Jazz\", \"Rock\", \"Jazz\"))\n",
    "\n",
    "levels(music_genre)"
   ]
  },
  {
   "cell_type": "code",
   "execution_count": 3,
   "id": "65490e3e-3b65-4550-a37f-79eccb8b5577",
   "metadata": {},
   "outputs": [
    {
     "data": {
      "text/html": [
       "<ol class=list-inline>\n",
       "\t<li>'Classic'</li>\n",
       "\t<li>'Jazz'</li>\n",
       "\t<li>'Pop'</li>\n",
       "\t<li>'Rock'</li>\n",
       "\t<li>'Other'</li>\n",
       "</ol>\n"
      ],
      "text/latex": [
       "\\begin{enumerate*}\n",
       "\\item 'Classic'\n",
       "\\item 'Jazz'\n",
       "\\item 'Pop'\n",
       "\\item 'Rock'\n",
       "\\item 'Other'\n",
       "\\end{enumerate*}\n"
      ],
      "text/markdown": [
       "1. 'Classic'\n",
       "2. 'Jazz'\n",
       "3. 'Pop'\n",
       "4. 'Rock'\n",
       "5. 'Other'\n",
       "\n",
       "\n"
      ],
      "text/plain": [
       "[1] \"Classic\" \"Jazz\"    \"Pop\"     \"Rock\"    \"Other\"  "
      ]
     },
     "metadata": {},
     "output_type": "display_data"
    }
   ],
   "source": [
    "music_genre <- factor(c(\"Jazz\", \"Rock\", \"Classic\", \"Classic\", \"Pop\", \"Jazz\", \"Rock\", \"Jazz\"), levels = c(\"Classic\", \"Jazz\", \"Pop\", \"Rock\", \"Other\"))\n",
    "\n",
    "levels(music_genre)"
   ]
  },
  {
   "cell_type": "code",
   "execution_count": 4,
   "id": "c15f62f7-5996-45cf-89e8-9c87aeedc3f0",
   "metadata": {},
   "outputs": [
    {
     "data": {
      "text/html": [
       "8"
      ],
      "text/latex": [
       "8"
      ],
      "text/markdown": [
       "8"
      ],
      "text/plain": [
       "[1] 8"
      ]
     },
     "metadata": {},
     "output_type": "display_data"
    }
   ],
   "source": [
    "music_genre <- factor(c(\"Jazz\", \"Rock\", \"Classic\", \"Classic\", \"Pop\", \"Jazz\", \"Rock\", \"Jazz\"))\n",
    "\n",
    "length(music_genre)"
   ]
  },
  {
   "cell_type": "code",
   "execution_count": 5,
   "id": "112a7c48-1d53-4508-a1c4-9b9eb50be1d5",
   "metadata": {},
   "outputs": [
    {
     "data": {
      "text/html": [
       "Classic\n",
       "<details>\n",
       "\t<summary style=display:list-item;cursor:pointer>\n",
       "\t\t<strong>Levels</strong>:\n",
       "\t</summary>\n",
       "\t<ol class=list-inline>\n",
       "\t\t<li>'Classic'</li>\n",
       "\t\t<li>'Jazz'</li>\n",
       "\t\t<li>'Pop'</li>\n",
       "\t\t<li>'Rock'</li>\n",
       "\t</ol>\n",
       "</details>"
      ],
      "text/latex": [
       "Classic\n",
       "\\emph{Levels}: \\begin{enumerate*}\n",
       "\\item 'Classic'\n",
       "\\item 'Jazz'\n",
       "\\item 'Pop'\n",
       "\\item 'Rock'\n",
       "\\end{enumerate*}\n"
      ],
      "text/markdown": [
       "Classic\n",
       "**Levels**: 1. 'Classic'\n",
       "2. 'Jazz'\n",
       "3. 'Pop'\n",
       "4. 'Rock'\n",
       "\n",
       "\n"
      ],
      "text/plain": [
       "[1] Classic\n",
       "Levels: Classic Jazz Pop Rock"
      ]
     },
     "metadata": {},
     "output_type": "display_data"
    }
   ],
   "source": [
    "music_genre <- factor(c(\"Jazz\", \"Rock\", \"Classic\", \"Classic\", \"Pop\", \"Jazz\", \"Rock\", \"Jazz\"))\n",
    "\n",
    "music_genre[3]"
   ]
  },
  {
   "cell_type": "code",
   "execution_count": 6,
   "id": "9d343a9d-62eb-410b-bb4c-f50edace4791",
   "metadata": {},
   "outputs": [
    {
     "data": {
      "text/html": [
       "Pop\n",
       "<details>\n",
       "\t<summary style=display:list-item;cursor:pointer>\n",
       "\t\t<strong>Levels</strong>:\n",
       "\t</summary>\n",
       "\t<ol class=list-inline>\n",
       "\t\t<li>'Classic'</li>\n",
       "\t\t<li>'Jazz'</li>\n",
       "\t\t<li>'Pop'</li>\n",
       "\t\t<li>'Rock'</li>\n",
       "\t</ol>\n",
       "</details>"
      ],
      "text/latex": [
       "Pop\n",
       "\\emph{Levels}: \\begin{enumerate*}\n",
       "\\item 'Classic'\n",
       "\\item 'Jazz'\n",
       "\\item 'Pop'\n",
       "\\item 'Rock'\n",
       "\\end{enumerate*}\n"
      ],
      "text/markdown": [
       "Pop\n",
       "**Levels**: 1. 'Classic'\n",
       "2. 'Jazz'\n",
       "3. 'Pop'\n",
       "4. 'Rock'\n",
       "\n",
       "\n"
      ],
      "text/plain": [
       "[1] Pop\n",
       "Levels: Classic Jazz Pop Rock"
      ]
     },
     "metadata": {},
     "output_type": "display_data"
    }
   ],
   "source": [
    "music_genre <- factor(c(\"Jazz\", \"Rock\", \"Classic\", \"Classic\", \"Pop\", \"Jazz\", \"Rock\", \"Jazz\"))\n",
    "\n",
    "music_genre[3] <- \"Pop\"\n",
    "\n",
    "music_genre[3]"
   ]
  },
  {
   "cell_type": "code",
   "execution_count": 7,
   "id": "4257b077-6a25-4591-a90e-7e49ccd0b2d3",
   "metadata": {},
   "outputs": [
    {
     "data": {
      "text/html": [
       "Opera\n",
       "<details>\n",
       "\t<summary style=display:list-item;cursor:pointer>\n",
       "\t\t<strong>Levels</strong>:\n",
       "\t</summary>\n",
       "\t<ol class=list-inline>\n",
       "\t\t<li>'Classic'</li>\n",
       "\t\t<li>'Jazz'</li>\n",
       "\t\t<li>'Pop'</li>\n",
       "\t\t<li>'Rock'</li>\n",
       "\t\t<li>'Opera'</li>\n",
       "\t</ol>\n",
       "</details>"
      ],
      "text/latex": [
       "Opera\n",
       "\\emph{Levels}: \\begin{enumerate*}\n",
       "\\item 'Classic'\n",
       "\\item 'Jazz'\n",
       "\\item 'Pop'\n",
       "\\item 'Rock'\n",
       "\\item 'Opera'\n",
       "\\end{enumerate*}\n"
      ],
      "text/markdown": [
       "Opera\n",
       "**Levels**: 1. 'Classic'\n",
       "2. 'Jazz'\n",
       "3. 'Pop'\n",
       "4. 'Rock'\n",
       "5. 'Opera'\n",
       "\n",
       "\n"
      ],
      "text/plain": [
       "[1] Opera\n",
       "Levels: Classic Jazz Pop Rock Opera"
      ]
     },
     "metadata": {},
     "output_type": "display_data"
    }
   ],
   "source": [
    "music_genre <- factor(c(\"Jazz\", \"Rock\", \"Classic\", \"Classic\", \"Pop\", \"Jazz\", \"Rock\", \"Jazz\"), levels = c(\"Classic\", \"Jazz\", \"Pop\", \"Rock\", \"Opera\"))\n",
    "\n",
    "music_genre[3] <- \"Opera\"\n",
    "\n",
    "music_genre[3]"
   ]
  },
  {
   "cell_type": "code",
   "execution_count": null,
   "id": "7998f268-a914-4137-84b7-ef97476d3976",
   "metadata": {},
   "outputs": [],
   "source": []
  }
 ],
 "metadata": {
  "kernelspec": {
   "display_name": "R",
   "language": "R",
   "name": "ir"
  },
  "language_info": {
   "codemirror_mode": "r",
   "file_extension": ".r",
   "mimetype": "text/x-r-source",
   "name": "R",
   "pygments_lexer": "r",
   "version": "3.6.3"
  }
 },
 "nbformat": 4,
 "nbformat_minor": 5
}
